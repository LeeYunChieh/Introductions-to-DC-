{
  "nbformat": 4,
  "nbformat_minor": 0,
  "metadata": {
    "colab": {
      "name": "Untitled1.ipynb",
      "provenance": []
    },
    "kernelspec": {
      "name": "python3",
      "display_name": "Python 3"
    }
  },
  "cells": [
    {
      "cell_type": "code",
      "metadata": {
        "id": "wsjrdnkAND09",
        "colab_type": "code",
        "colab": {
          "base_uri": "https://localhost:8080/",
          "height": 87
        },
        "outputId": "333a77eb-6865-4b2a-9b8f-bf5fdc75d289"
      },
      "source": [
        "\n",
        "player_height = float(input(\"請輸入球員身高(公尺):\"))\n",
        "player_weight = float(input(\"請輸入球員體重(公斤):\"))\n",
        "player_bmi = player_weight / player_height**2\n",
        "bmi_label = None\n",
        "if player_bmi > 30:\n",
        "    bmi_label = 'Obese'\n",
        "if player_bmi <= 30 and player_bmi > 25:\n",
        "    bmi_label = 'Overweight'\n",
        "if player_bmi <= 25 and player_bmi > 18.5:\n",
        "    bmi_label = 'Normal weight'\n",
        "if player_bmi <= 18.5:\n",
        "    bmi_label = 'Underweight'\n",
        "print(player_bmi)\n",
        "print(bmi_label)"
      ],
      "execution_count": 103,
      "outputs": [
        {
          "output_type": "stream",
          "text": [
            "請輸入球員身高(公尺):1.7\n",
            "請輸入球員體重(公斤):52\n",
            "17.99307958477509\n",
            "Underweight\n"
          ],
          "name": "stdout"
        }
      ]
    },
    {
      "cell_type": "code",
      "metadata": {
        "id": "JU2TK8kfNIMy",
        "colab_type": "code",
        "colab": {
          "base_uri": "https://localhost:8080/",
          "height": 35
        },
        "outputId": "562fe817-23db-4700-82a2-4529fea848c9"
      },
      "source": [
        "if True:\n",
        "    print(\"First branch\")\n",
        "elif True:\n",
        "    print(\"Second branch\")\n",
        "elif True:\n",
        "    print(\"Third branch\")"
      ],
      "execution_count": 104,
      "outputs": [
        {
          "output_type": "stream",
          "text": [
            "First branch\n"
          ],
          "name": "stdout"
        }
      ]
    },
    {
      "cell_type": "code",
      "metadata": {
        "id": "6dSFReXWNOe2",
        "colab_type": "code",
        "colab": {
          "base_uri": "https://localhost:8080/",
          "height": 69
        },
        "outputId": "1ddcda3e-4b4d-477a-a2f9-a562f30e18a8"
      },
      "source": [
        "\n",
        "user_int = int(input(\"請輸入一個正整數:\"))\n",
        "if user_int % 3 == 0:\n",
        "    print(\"Fizz\")\n",
        "if user_int % 5 == 0:\n",
        "    print(\"Buzz\")"
      ],
      "execution_count": 105,
      "outputs": [
        {
          "output_type": "stream",
          "text": [
            "請輸入一個正整數:15\n",
            "Fizz\n",
            "Buzz\n"
          ],
          "name": "stdout"
        }
      ]
    },
    {
      "cell_type": "code",
      "metadata": {
        "id": "OxmlvcKdNSzB",
        "colab_type": "code",
        "colab": {
          "base_uri": "https://localhost:8080/",
          "height": 52
        },
        "outputId": "951714bc-2419-4760-e86d-79cd0dc4e0fc"
      },
      "source": [
        "user_int = int(input(\"請輸入一個正整數:\"))\n",
        "if user_int % 15 == 0:\n",
        "    print(\"Fizz Buzz\")\n",
        "elif user_int % 5 == 0:\n",
        "    print(\"Buzz\")\n",
        "elif user_int % 3 == 0:\n",
        "    print(\"Fizz\")\n",
        "else:\n",
        "    print(user_int)"
      ],
      "execution_count": 106,
      "outputs": [
        {
          "output_type": "stream",
          "text": [
            "請輸入一個正整數:16\n",
            "16\n"
          ],
          "name": "stdout"
        }
      ]
    },
    {
      "cell_type": "code",
      "metadata": {
        "id": "GLwjLpj7NXrz",
        "colab_type": "code",
        "colab": {
          "base_uri": "https://localhost:8080/",
          "height": 191
        },
        "outputId": "d333cdaa-aba3-4509-c8d8-e9e26434f46b"
      },
      "source": [
        "i = 2\n",
        "while i <= 20:\n",
        "    print(i)\n",
        "    i += 2"
      ],
      "execution_count": 108,
      "outputs": [
        {
          "output_type": "stream",
          "text": [
            "2\n",
            "4\n",
            "6\n",
            "8\n",
            "10\n",
            "12\n",
            "14\n",
            "16\n",
            "18\n",
            "20\n"
          ],
          "name": "stdout"
        }
      ]
    },
    {
      "cell_type": "code",
      "metadata": {
        "id": "6n5MGk7kNZiv",
        "colab_type": "code",
        "colab": {
          "base_uri": "https://localhost:8080/",
          "height": 208
        },
        "outputId": "a09f4d5e-55dc-4cc4-ea32-6b52538bc408"
      },
      "source": [
        "\n",
        "i = 1\n",
        "while i <= 10:\n",
        "    print(i)\n",
        "    i += 1\n",
        "print(\"While loop is done.\")"
      ],
      "execution_count": 107,
      "outputs": [
        {
          "output_type": "stream",
          "text": [
            "1\n",
            "2\n",
            "3\n",
            "4\n",
            "5\n",
            "6\n",
            "7\n",
            "8\n",
            "9\n",
            "10\n",
            "While loop is done.\n"
          ],
          "name": "stdout"
        }
      ]
    },
    {
      "cell_type": "code",
      "metadata": {
        "id": "zkPS8X2VNi-v",
        "colab_type": "code",
        "colab": {
          "base_uri": "https://localhost:8080/",
          "height": 35
        },
        "outputId": "01118c95-d7f0-43e4-84a3-65d3faa16f9c"
      },
      "source": [
        "\n",
        "i = 1\n",
        "counter = 0\n",
        "while i <= 10:\n",
        "    counter += 1\n",
        "    i += 1\n",
        "print(counter)"
      ],
      "execution_count": 109,
      "outputs": [
        {
          "output_type": "stream",
          "text": [
            "10\n"
          ],
          "name": "stdout"
        }
      ]
    },
    {
      "cell_type": "code",
      "metadata": {
        "id": "6T31ALdcNmT9",
        "colab_type": "code",
        "colab": {
          "base_uri": "https://localhost:8080/",
          "height": 35
        },
        "outputId": "6e6c9e33-4aa2-4635-a996-6b2618810f86"
      },
      "source": [
        "i = 1\n",
        "counter = 0\n",
        "while i <= 10:\n",
        "    if i % 2 == 0:\n",
        "        counter += 1\n",
        "    i += 1\n",
        "print(counter)"
      ],
      "execution_count": 110,
      "outputs": [
        {
          "output_type": "stream",
          "text": [
            "5\n"
          ],
          "name": "stdout"
        }
      ]
    },
    {
      "cell_type": "code",
      "metadata": {
        "id": "lJ5l1vuCNo9w",
        "colab_type": "code",
        "colab": {
          "base_uri": "https://localhost:8080/",
          "height": 35
        },
        "outputId": "0266ad68-1dfd-48bc-dafc-c82a6612feb6"
      },
      "source": [
        "i = 1\n",
        "summation = 0\n",
        "while i <= 100:\n",
        "    summation += i\n",
        "    i += 1\n",
        "print(summation)"
      ],
      "execution_count": 111,
      "outputs": [
        {
          "output_type": "stream",
          "text": [
            "5050\n"
          ],
          "name": "stdout"
        }
      ]
    },
    {
      "cell_type": "code",
      "metadata": {
        "id": "qS-3jyCfNrzG",
        "colab_type": "code",
        "colab": {
          "base_uri": "https://localhost:8080/",
          "height": 260
        },
        "outputId": "febed76e-beab-43a1-a163-3d3397675395"
      },
      "source": [
        "x = int(input(\"請輸入起始的正整數:\"))\n",
        "y = int(input(\"請輸入終止的正整數\"))\n",
        "i = x\n",
        "while i <= y:\n",
        "    print(i)\n",
        "    i += 1"
      ],
      "execution_count": 112,
      "outputs": [
        {
          "output_type": "stream",
          "text": [
            "請輸入起始的正整數:55\n",
            "請輸入終止的正整數66\n",
            "55\n",
            "56\n",
            "57\n",
            "58\n",
            "59\n",
            "60\n",
            "61\n",
            "62\n",
            "63\n",
            "64\n",
            "65\n",
            "66\n"
          ],
          "name": "stdout"
        }
      ]
    },
    {
      "cell_type": "code",
      "metadata": {
        "id": "bgtlFx22NxoV",
        "colab_type": "code",
        "colab": {
          "base_uri": "https://localhost:8080/",
          "height": 156
        },
        "outputId": "1c80fa98-4694-4599-8bf7-45675f412c51"
      },
      "source": [
        "x = int(input(\"請輸入起始的正整數:\"))\n",
        "y = int(input(\"請輸入終止的正整數\"))\n",
        "i = x\n",
        "while i <= y:\n",
        "    if i % 2 == 1:\n",
        "        print(i)\n",
        "    i += 1"
      ],
      "execution_count": 113,
      "outputs": [
        {
          "output_type": "stream",
          "text": [
            "請輸入起始的正整數:55\n",
            "請輸入終止的正整數66\n",
            "55\n",
            "57\n",
            "59\n",
            "61\n",
            "63\n",
            "65\n"
          ],
          "name": "stdout"
        }
      ]
    }
  ]
}