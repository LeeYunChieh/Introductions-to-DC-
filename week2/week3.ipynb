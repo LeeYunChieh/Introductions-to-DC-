{
  "nbformat": 4,
  "nbformat_minor": 0,
  "metadata": {
    "colab": {
      "name": "Untitled1.ipynb",
      "provenance": []
    },
    "kernelspec": {
      "name": "python3",
      "display_name": "Python 3"
    }
  },
  "cells": [
    {
      "cell_type": "code",
      "metadata": {
        "id": "RsdwjtfK2raf",
        "colab_type": "code",
        "colab": {
          "base_uri": "https://localhost:8080/",
          "height": 121
        },
        "outputId": "acf350f5-9646-4f10-82d1-8c3cccf458e1"
      },
      "source": [
        "movie_time = 181\n",
        "movie_rating = 8.5\n",
        "movie_title = \"Avengers: Endgame\"\n",
        "\n",
        "print(movie_time) \n",
        "print(movie_rating) \n",
        "print(movie_title)\n",
        "\n",
        "print(type(movie_time)) \n",
        "print(type(movie_rating)) \n",
        "print(type(movie_title))"
      ],
      "execution_count": 4,
      "outputs": [
        {
          "output_type": "stream",
          "text": [
            "181\n",
            "8.5\n",
            "Avengers: Endgame\n",
            "<class 'int'>\n",
            "<class 'float'>\n",
            "<class 'str'>\n"
          ],
          "name": "stdout"
        }
      ]
    }
  ]
}