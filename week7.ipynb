{
  "nbformat": 4,
  "nbformat_minor": 0,
  "metadata": {
    "colab": {
      "name": "Untitled1.ipynb",
      "provenance": []
    },
    "kernelspec": {
      "name": "python3",
      "display_name": "Python 3"
    }
  },
  "cells": [
    {
      "cell_type": "code",
      "metadata": {
        "id": "8O4upcF_Ip_8",
        "colab_type": "code",
        "colab": {
          "base_uri": "https://localhost:8080/",
          "height": 69
        },
        "outputId": "7b214655-76e8-44cc-bef3-4ad3b3fe26ad"
      },
      "source": [
        "monthly_income = input(\"請輸入月薪：\") \n",
        "saving_account = input(\"請輸入存款：\")\n",
        "monthly_income = int(monthly_income)\n",
        "saving_account = int(saving_account)\n",
        "ans = \"發信用卡\"\n",
        "if monthly_income > 40000 or saving_account > 500000 :\n",
        "    print(ans)\n",
        "  "
      ],
      "execution_count": 81,
      "outputs": [
        {
          "output_type": "stream",
          "text": [
            "請輸入月薪：60000\n",
            "請輸入存款：450000\n",
            "發信用卡\n"
          ],
          "name": "stdout"
        }
      ]
    },
    {
      "cell_type": "code",
      "metadata": {
        "id": "lR262yewIx9L",
        "colab_type": "code",
        "colab": {
          "base_uri": "https://localhost:8080/",
          "height": 52
        },
        "outputId": "d05ddab4-cfbb-4122-a28f-26d6238749df"
      },
      "source": [
        "user_int = input(\"請輸入一個正整數：\")\n",
        "user_int = int(user_int)\n",
        "if user_int % 2 == 0 :\n",
        "    print(\"{}是偶數\".format(user_int))\n",
        "else:\n",
        "    print(\"{}是奇數\".format(user_int))"
      ],
      "execution_count": 82,
      "outputs": [
        {
          "output_type": "stream",
          "text": [
            "請輸入一個正整數：5566\n",
            "5566是偶數\n"
          ],
          "name": "stdout"
        }
      ]
    },
    {
      "cell_type": "code",
      "metadata": {
        "id": "st3QA_zKI4AG",
        "colab_type": "code",
        "colab": {
          "base_uri": "https://localhost:8080/",
          "height": 52
        },
        "outputId": "9b3e23e5-75b8-4476-8e6e-02bffd5301a0"
      },
      "source": [
        "user_int = input(\"請輸入一個正整數：\")\n",
        "user_int = int(user_int)\n",
        "if user_int % 2 == 0 :\n",
        "    print(\"{}是偶數\".format(user_int))\n",
        "else:\n",
        "    print(\"{}是奇數\".format(user_int))"
      ],
      "execution_count": 83,
      "outputs": [
        {
          "output_type": "stream",
          "text": [
            "請輸入一個正整數：7788\n",
            "7788是偶數\n"
          ],
          "name": "stdout"
        }
      ]
    },
    {
      "cell_type": "code",
      "metadata": {
        "id": "4nANfCfUJBwE",
        "colab_type": "code",
        "colab": {
          "base_uri": "https://localhost:8080/",
          "height": 52
        },
        "outputId": "24b3bc41-6e4c-4190-965e-03987db6ddf8"
      },
      "source": [
        "\n",
        "user_int = input(\"請輸入一個正整數：\")\n",
        "user_int = int(user_int)\n",
        "if user_int % 2 == 0 :\n",
        "    print(\"{}是偶數\".format(user_int))\n",
        "else:\n",
        "    print(\"{}是奇數\".format(user_int))"
      ],
      "execution_count": 84,
      "outputs": [
        {
          "output_type": "stream",
          "text": [
            "請輸入一個正整數：8899\n",
            "8899是奇數\n"
          ],
          "name": "stdout"
        }
      ]
    },
    {
      "cell_type": "code",
      "metadata": {
        "id": "xwCNd4KxJIF5",
        "colab_type": "code",
        "colab": {
          "base_uri": "https://localhost:8080/",
          "height": 52
        },
        "outputId": "c9facff0-c70a-42c3-c87e-4bf4fe06d576"
      },
      "source": [
        "id_last_digit = input(\"請輸入您身分證字號的尾數：\")\n",
        "id_last_digit= int(id_last_digit)\n",
        "if id_last_digit % 2 ==1 :\n",
        "    print(\"星期一三五日領\")\n",
        "else:\n",
        "    print(\"星期二四六日領\")"
      ],
      "execution_count": 85,
      "outputs": [
        {
          "output_type": "stream",
          "text": [
            "請輸入您身分證字號的尾數：9\n",
            "星期一三五日領\n"
          ],
          "name": "stdout"
        }
      ]
    },
    {
      "cell_type": "code",
      "metadata": {
        "id": "4CO6TgAqJME1",
        "colab_type": "code",
        "colab": {
          "base_uri": "https://localhost:8080/",
          "height": 52
        },
        "outputId": "80c088e5-adaa-4b91-a32d-fcce187e1fbc"
      },
      "source": [
        "id_last_digit = input(\"請輸入您身分證字號的尾數：\")\n",
        "id_last_digit= int(id_last_digit)\n",
        "if id_last_digit % 2 ==1 :\n",
        "    print(\"星期一三五日領\")\n",
        "else:\n",
        "    print(\"星期二四六日領\")"
      ],
      "execution_count": 86,
      "outputs": [
        {
          "output_type": "stream",
          "text": [
            "請輸入您身分證字號的尾數：6\n",
            "星期二四六日領\n"
          ],
          "name": "stdout"
        }
      ]
    },
    {
      "cell_type": "code",
      "metadata": {
        "id": "sC1GojJIJQpa",
        "colab_type": "code",
        "colab": {
          "base_uri": "https://localhost:8080/",
          "height": 69
        },
        "outputId": "00986d5a-e9f8-4c89-f000-eeb20c618713"
      },
      "source": [
        "input_height = float(input(\"請輸入身高（公分）：\"))\n",
        "input_weight = float(input(\"請輸入體重（公斤）：\"))\n",
        "bmi = input_weight / (input_height*0.01)**2\n",
        "if bmi > 30:\n",
        "    label = \"Obese\"\n",
        "elif bmi > 25:\n",
        "    label = \"Overweight\"\n",
        "elif bmi > 18.5:\n",
        "    label = \"Normal weight\"\n",
        "elif bmi <= 18.5:\n",
        "    label = \"Underweight\"\n",
        "print(label)"
      ],
      "execution_count": 87,
      "outputs": [
        {
          "output_type": "stream",
          "text": [
            "請輸入身高（公分）：180\n",
            "請輸入體重（公斤）：79\n",
            "Normal weight\n"
          ],
          "name": "stdout"
        }
      ]
    }
  ]
}