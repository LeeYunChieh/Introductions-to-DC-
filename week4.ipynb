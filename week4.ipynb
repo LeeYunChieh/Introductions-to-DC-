{
  "nbformat": 4,
  "nbformat_minor": 0,
  "metadata": {
    "colab": {
      "name": "Untitled1.ipynb",
      "provenance": []
    },
    "kernelspec": {
      "name": "python3",
      "display_name": "Python 3"
    }
  },
  "cells": [
    {
      "cell_type": "code",
      "metadata": {
        "id": "ghB1FKfi8FjM",
        "colab_type": "code",
        "colab": {
          "base_uri": "https://localhost:8080/",
          "height": 35
        },
        "outputId": "6625427d-06c7-4cb3-d38a-ba7d9a2af1a7"
      },
      "source": [
        "current_Celsius = 25\n",
        "Fahrenheit = current_Celsius*9/5+32\n",
        "print(Fahrenheit)"
      ],
      "execution_count": 12,
      "outputs": [
        {
          "output_type": "stream",
          "text": [
            "77.0\n"
          ],
          "name": "stdout"
        }
      ]
    },
    {
      "cell_type": "code",
      "metadata": {
        "id": "VQNYu3u_8HLw",
        "colab_type": "code",
        "colab": {
          "base_uri": "https://localhost:8080/",
          "height": 35
        },
        "outputId": "2789e50c-3c8e-41e2-9c9e-3def3f3712cb"
      },
      "source": [
        "current_Fahrenheit = 77\n",
        "Celsius = (Fahrenheit-32)*5/9\n",
        "print(Celsius)"
      ],
      "execution_count": 13,
      "outputs": [
        {
          "output_type": "stream",
          "text": [
            "25.0\n"
          ],
          "name": "stdout"
        }
      ]
    },
    {
      "cell_type": "code",
      "metadata": {
        "id": "p7oPM6Jr8I_u",
        "colab_type": "code",
        "colab": {
          "base_uri": "https://localhost:8080/",
          "height": 35
        },
        "outputId": "9ddc8b1c-4bb5-40c6-dd3b-2683e61e3839"
      },
      "source": [
        "shaq_weight = 147\n",
        "shaq_height = 216\n",
        "shaq_bmi = shaq_weight/(shaq_height/100)**2\n",
        "print(shaq_bmi)"
      ],
      "execution_count": 14,
      "outputs": [
        {
          "output_type": "stream",
          "text": [
            "31.507201646090532\n"
          ],
          "name": "stdout"
        }
      ]
    },
    {
      "cell_type": "code",
      "metadata": {
        "id": "1l9nCDlk8Lyl",
        "colab_type": "code",
        "colab": {
          "base_uri": "https://localhost:8080/",
          "height": 35
        },
        "outputId": "129395d7-60cd-4122-eecf-f23ee29f4688"
      },
      "source": [
        "ross_said = \"\"\"Let's put aside the fact that you \"accidentally\" pick up my grandmother's ring.\"\"\"\n",
        "print(ross_said)"
      ],
      "execution_count": 15,
      "outputs": [
        {
          "output_type": "stream",
          "text": [
            "Let's put aside the fact that you \"accidentally\" pick up my grandmother's ring.\n"
          ],
          "name": "stdout"
        }
      ]
    },
    {
      "cell_type": "code",
      "metadata": {
        "id": "vqR2ZD1l8Plr",
        "colab_type": "code",
        "colab": {
          "base_uri": "https://localhost:8080/",
          "height": 69
        },
        "outputId": "975b272a-d7ae-4749-c896-d51b8c5b10a5"
      },
      "source": [
        "\n",
        "city = input(\"請輸入城市: \" )\n",
        "weather = input(\"請輸入天氣: \" )\n",
        "print(\"我在{}，天氣{}\".format(city, weather))"
      ],
      "execution_count": 17,
      "outputs": [
        {
          "output_type": "stream",
          "text": [
            "請輸入城市: 台北\n",
            "請輸入天氣: 晴\n",
            "我在台北，天氣晴\n"
          ],
          "name": "stdout"
        }
      ]
    },
    {
      "cell_type": "code",
      "metadata": {
        "id": "rt2__rQ68X_Q",
        "colab_type": "code",
        "colab": {
          "base_uri": "https://localhost:8080/",
          "height": 104
        },
        "outputId": "74ed3117-5ddf-4245-c6b9-9afb1afb8ca6"
      },
      "source": [
        "name = input(\"請輸入姓名: \")\n",
        "shaq_height = eval(input(\"請輸入身高: \"))\n",
        "shaq_weight = eval(input(\"請輸入體重: \"))\n",
        "shaq_bmi = shaq_weight/(shaq_height/100)**2\n",
        "print(\"{}的身體質量指數為：{:.2f}\".format(name,shaq_bmi)) \n",
        "print(\"{}是否過重：{}\".format(name,shaq_bmi > 30))"
      ],
      "execution_count": 18,
      "outputs": [
        {
          "output_type": "stream",
          "text": [
            "請輸入姓名: 俠客歐尼爾\n",
            "請輸入身高: 216\n",
            "請輸入體重: 147\n",
            "俠客歐尼爾的身體質量指數為：31.51\n",
            "俠客歐尼爾是否過重：True\n"
          ],
          "name": "stdout"
        }
      ]
    }
  ]
}